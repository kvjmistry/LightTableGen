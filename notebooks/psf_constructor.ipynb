{
 "cells": [
  {
   "cell_type": "code",
   "execution_count": 31,
   "metadata": {},
   "outputs": [],
   "source": [
    "import time\n",
    "import os\n",
    "import glob\n",
    "import numpy  as np\n",
    "import tables as tb\n",
    "import pandas as pd\n",
    "\n",
    "# %matplotlib notebook\n",
    "%matplotlib inline\n",
    "import matplotlib.pyplot as plt\n",
    "\n",
    "from invisible_cities.database  import load_db\n",
    "from invisible_cities.io.dst_io import load_dst\n",
    "from invisible_cities.io.dst_io import df_writer"
   ]
  },
  {
   "cell_type": "code",
   "execution_count": 32,
   "metadata": {},
   "outputs": [],
   "source": [
    "plt.rcParams[\"font.size\"]      = 15\n",
    "plt.rcParams[\"font.family\"]    = \"sans-serif\"\n",
    "plt.rcParams[\"font.monospace\"] = \"Computer Modern Sans Serif\""
   ]
  },
  {
   "cell_type": "code",
   "execution_count": 33,
   "metadata": {},
   "outputs": [
    {
     "data": {
      "text/plain": [
       "['../files/PSF/NEW_PSF_1.next.h5',\n",
       " '../files/PSF/NEW_PSF_10.next.h5',\n",
       " '../files/PSF/NEW_PSF_100.next.h5',\n",
       " '../files/PSF/NEW_PSF_101.next.h5']"
      ]
     },
     "execution_count": 33,
     "metadata": {},
     "output_type": "execute_result"
    }
   ],
   "source": [
    "get_file_number = lambda filename: int(filename.split(\"/\")[-1].split(\"_\")[1])\n",
    "\n",
    "datadir = os.path.expandvars(\"../files/PSF/\")\n",
    "filenames = sorted(glob.glob(datadir + \"*.h5\"))\n",
    "\n",
    "filenames[:4]"
   ]
  },
  {
   "cell_type": "code",
   "execution_count": 34,
   "metadata": {},
   "outputs": [],
   "source": [
    "#### Configuration Params ####\n",
    "\n",
    "# configure z binning\n",
    "el_gap_width = 6.\n",
    "dz    = 1.\n",
    "zbins = np.arange(0, el_gap_width + dz, dz)\n",
    "\n",
    "# configure transverse binning\n",
    "dd    = 1\n",
    "dmax  = 230\n",
    "dbins = np.arange(0, dmax + dd, dd)"
   ]
  },
  {
   "cell_type": "code",
   "execution_count": 35,
   "metadata": {},
   "outputs": [],
   "source": [
    "df = pd.DataFrame()\n",
    "df[\"d_bin\"]   = dbins[:-1]\n",
    "df[\"charge\"]  = np.zeros(len(dbins)-1)\n",
    "df[\"entries\"] = np.zeros(len(dbins)-1)\n",
    "df = df.set_index(\"d_bin\")\n",
    "# saved data\n",
    "dfs = dict()\n",
    "for z in zbins[:-1]: dfs[z] = df.copy()    \n",
    "nevents = dict()\n",
    "for z in zbins[:-1]: nevents[z] = 0\n",
    "\n",
    "detector_db = \"new\"\n",
    "datasipm = load_db.DataSiPM(detector_db, 0)\n",
    "\n",
    "nphotons_in_file = []"
   ]
  },
  {
   "cell_type": "code",
   "execution_count": 36,
   "metadata": {},
   "outputs": [
    {
     "name": "stdout",
     "output_type": "stream",
     "text": [
      "Time (total 49241 events): 5.501450900236765\n"
     ]
    }
   ],
   "source": [
    "t0 = time.time()\n",
    "\n",
    "for i, filename in enumerate(filenames):\n",
    "    \n",
    "    print(\"Processing file:\", i+1, \"/\", len(filenames), end=\"\\r\")\n",
    "    \n",
    "    configuration = pd.read_hdf(filename, \"/MC/configuration\").set_index(\"param_key\")\n",
    "    particles     = pd.read_hdf(filename, \"/MC/particles/\")\n",
    "    sns_response  = pd.read_hdf(filename, \"/MC/sns_response\")\n",
    "    sns_positions = pd.read_hdf(filename, \"/MC/sns_positions\")\n",
    "\n",
    "    Nphotons = int(configuration.loc[\"/Generator/ScintGenerator/nphotons\"][0])\n",
    "    nphotons_in_file.append(Nphotons)\n",
    "    \n",
    "    # select SIPMs\n",
    "    sns_response = sns_response[np.isin(sns_response[\"sensor_id\"], datasipm[\"SensorID\"])]\n",
    "    for event_id, particle in particles.groupby(\"event_id\"):\n",
    "        x = particle[\"initial_x\"].values\n",
    "        y = particle[\"initial_y\"].values\n",
    "        z = particle[\"initial_z\"].values\n",
    "\n",
    "        # distances from emission point\n",
    "        distances_df          = pd.DataFrame.copy(datasipm.drop([\"ChannelID\", \"adc_to_pes\", \"Sigma\"], axis=1))\n",
    "        distances_df[\"d\"]     = ((distances_df[\"X\"]-x)**2 + (distances_df[\"Y\"]-y)**2)**0.5\n",
    "        distances_df[\"d_bin\"] = pd.cut(distances_df[\"d\"], bins=dbins, labels=dbins[:-1], include_lowest=True)\n",
    "        distances_df = distances_df.set_index(\"SensorID\")\n",
    "\n",
    "        responses = sns_response[sns_response[\"event_id\"]==event_id]\n",
    "\n",
    "        # charge per sensor\n",
    "        charges = responses.groupby(\"sensor_id\")[\"charge\"].sum() # protection\n",
    "        charges = charges.reindex(datasipm[\"SensorID\"], fill_value=0)\n",
    "\n",
    "        distances_df[\"charge\"] = charges\n",
    "        total_charge = distances_df.groupby(\"d_bin\")[\"charge\"].sum()\n",
    "        entries      = distances_df.groupby(\"d_bin\")[\"d\"]     .nunique()\n",
    "\n",
    "        #fill total df\n",
    "        zbin = pd.cut(-z, bins=zbins, labels=zbins[:-1])[0]\n",
    "        if np.isnan(zbin): continue\n",
    "            \n",
    "        df = dfs[zbin]\n",
    "        df[\"charge\"]  = df[\"charge\"]  + total_charge\n",
    "        df[\"entries\"] = df[\"entries\"] + entries\n",
    "        dfs[zbin] = df\n",
    "        \n",
    "        nevents[zbin] += 1\n",
    "\n",
    "nphotons_in_file = np.array(nphotons_in_file)\n",
    "Nphotons = nphotons_in_file[0]\n",
    "assert np.all(nphotons_in_file == Nphotons)\n",
    "\n",
    "print(f\"Time (total {sum(list(nevents.values()))} events):\", (time.time()-t0)/60.)"
   ]
  },
  {
   "cell_type": "code",
   "execution_count": 37,
   "metadata": {},
   "outputs": [],
   "source": [
    "psf = pd.DataFrame()\n",
    "for zbin in dfs:\n",
    "    psf[zbin] = dfs[zbin][\"charge\"]/dfs[zbin][\"entries\"]/Nphotons"
   ]
  },
  {
   "cell_type": "code",
   "execution_count": 38,
   "metadata": {},
   "outputs": [],
   "source": [
    "signal_type = \"S2\"\n",
    "\n",
    "for i, zbin in enumerate(zbins[:-1]):\n",
    "    psf = psf.rename({zbin: \"z_m\" + str(int(zbins[i+1]))}, axis=1)\n",
    "\n",
    "psf = psf.reset_index().rename({\"d_bin\": \"dist_xy\"}, axis=1)"
   ]
  },
  {
   "cell_type": "code",
   "execution_count": 39,
   "metadata": {},
   "outputs": [],
   "source": [
    "if psf.isna().values.any():\n",
    "    raise Exception(\"NaN values in table!\")"
   ]
  },
  {
   "cell_type": "code",
   "execution_count": null,
   "metadata": {},
   "outputs": [],
   "source": []
  },
  {
   "cell_type": "code",
   "execution_count": 40,
   "metadata": {},
   "outputs": [],
   "source": [
    "save = True\n",
    "outfilename = f\"PSF.h5\"\n",
    "\n",
    "if save:\n",
    "    with tb.open_file(outfilename, 'w') as h5out:\n",
    "        df_writer(h5out, psf, \"PSF\", \"LightTable\")"
   ]
  },
  {
   "cell_type": "code",
   "execution_count": 41,
   "metadata": {},
   "outputs": [],
   "source": [
    "# create PSF config\n",
    "config = { \"detector\"   : \"new\"\n",
    "         , \"ACTIVE_rad\" : str(454/2.) #compulsory\n",
    "         , \"EL_GAP\"     : str(6.0)    #compulsory\n",
    "         , \"signal_type\": signal_type\n",
    "         , \"sensor\"     : \"SIPM\"       #compulsory\n",
    "         , \"pitch_z\"    : str(dz)      #compulsory\n",
    "         , \"nexus\"      : \"v7_02_00\"}\n",
    "config = pd.DataFrame({\"parameter\": config.keys(), \"value\": config.values()})\n",
    "\n",
    "if save:\n",
    "    with tb.open_file(outfilename, 'r+') as h5out:\n",
    "        df_writer( h5out, config, \"PSF\", \"Config\"\n",
    "                 , str_col_length = config.applymap(lambda x: len(x)).values.max())"
   ]
  },
  {
   "cell_type": "code",
   "execution_count": 42,
   "metadata": {},
   "outputs": [],
   "source": [
    "# copy MC configuration\n",
    "configuration = load_dst(filenames[0], \"MC\", \"configuration\")\n",
    "\n",
    "if save:\n",
    "    with tb.open_file(outfilename, 'r+') as h5out:\n",
    "        df_writer( h5out, config, \"PSF\", \"configuration\"\n",
    "                 , str_col_length = configuration.applymap(lambda x: len(x)).values.max())"
   ]
  },
  {
   "cell_type": "code",
   "execution_count": null,
   "metadata": {},
   "outputs": [],
   "source": []
  },
  {
   "cell_type": "code",
   "execution_count": 43,
   "metadata": {},
   "outputs": [],
   "source": [
    "psf    = load_dst(outfilename, \"PSF\", \"LightTable\")\n",
    "config = load_dst(outfilename, \"PSF\", \"Config\")"
   ]
  },
  {
   "cell_type": "code",
   "execution_count": 49,
   "metadata": {},
   "outputs": [
    {
     "data": {
      "image/png": "[encoded data removed]",
      "text/plain": [
       "<Figure size 396x396 with 1 Axes>"
      ]
     },
     "metadata": {
      "needs_background": "light"
     },
     "output_type": "display_data"
    }
   ],
   "source": [
    "i = 0\n",
    "%matplotlib inline\n",
    "\n",
    "fig, ax = plt.subplots(1, figsize=[5.5, 5.5])\n",
    "for i in range(0, 6,1):\n",
    "    ax.scatter(psf.index, psf[f\"z_m{i+1}\"], s=10, label=\"z = {0} mm\".format(i))\n",
    "    \n",
    "    ax.set_yscale(\"log\")\n",
    "    ax.set_ylim(1e-8, 1e-3)\n",
    "\n",
    "ax.set_ylabel(\"PSF [Charge/Photon]\")\n",
    "ax.set_xlabel(\"Distance [mm]\")\n",
    "ax.legend()\n",
    "plt.savefig(\"PSF.pdf\")\n",
    "plt.show()"
   ]
  }
 ],
 "metadata": {
  "kernelspec": {
   "display_name": "Python 3.7.11 ('IC-3.7-2020-06-16')",
   "language": "python",
   "name": "python3"
  },
  "language_info": {
   "codemirror_mode": {
    "name": "ipython",
    "version": 3
   },
   "file_extension": ".py",
   "mimetype": "text/x-python",
   "name": "python",
   "nbconvert_exporter": "python",
   "pygments_lexer": "ipython3",
   "version": "3.7.11"
  },
  "vscode": {
   "interpreter": {
    "hash": "694cabc8c08f481f807dae21a023939a9ae71cccd9015836a3ac6c5893c6e077"
   }
  }
 },
 "nbformat": 4,
 "nbformat_minor": 4
}
